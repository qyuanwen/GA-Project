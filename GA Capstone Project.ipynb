{
 "cells": [
  {
   "cell_type": "markdown",
   "id": "d06794d1",
   "metadata": {},
   "source": [
    "<img src=\"http://imgur.com/1ZcRyrc.png\" style=\"float: left; margin: 20px; height: 55px\">\n",
    "\n",
    "#  Capstone Project: Train Delays Predictor\n",
    "---"
   ]
  },
  {
   "attachments": {},
   "cell_type": "markdown",
   "id": "a3ccf4b2",
   "metadata": {},
   "source": [
    "### Problem Statement and Solution Approach:\n",
    "\n",
    "**Problem:**<br>\n",
    "Despite ongoing efforts to improve the MRT system, train delays and faults persist, causing frustration and inconvenience for passengers.\n",
    "\n",
    "**Proposed Solution:**<br>As a daily commuter of Singapore MRT, I aim to develop a train delays predictor that can identify stations and timings that are more likely to experience breakdowns or delays. \n",
    "\n",
    "By analyzing historical data on time of day, type of day, station name, commuter volume, and breakdown/non-breakdown indicators, I hope to create a model that can accurately predict future breakdowns and help commuters avoid stations and times with potential delays."
   ]
  },
  {
   "cell_type": "markdown",
   "id": "fb7378e8",
   "metadata": {},
   "source": [
    "---"
   ]
  },
  {
   "cell_type": "markdown",
   "id": "d038cb31",
   "metadata": {},
   "source": [
    "### Data used:\n",
    "Data used in the analysis consists of SMRT information from the Land Transport Authorithy and SMRT tweets about train faults scrapped from SMRT Twitter profile page. Please rerefer to the data dictionary for more information on the columns extracted."
   ]
  },
  {
   "cell_type": "markdown",
   "id": "1abdfd00",
   "metadata": {},
   "source": [
    "---"
   ]
  },
  {
   "cell_type": "markdown",
   "id": "5fe444aa",
   "metadata": {},
   "source": [
    "### Data dictionary"
   ]
  },
  {
   "cell_type": "markdown",
   "id": "54105cb4",
   "metadata": {},
   "source": [
    "<a id=\"trainFault_df\"></a>\n",
    "**Dataset name: `trainFault_df`**<br>This dataset contains the cleaned information from twitter on the train's delays/faults.\n",
    "\n",
    "\n",
    "| Feature | Type | Description |\n",
    "| ------- | ---- | ----------- |\n",
    "| year_month | string | The year and month of the record. |\n",
    "| day_type | string | The type of day (weekday/weekend) |\n",
    "| time_per_hour | integer | The hour of the day in which the record was recorded. |\n",
    "| pt_code | string | The unique identifier for the train station. |\n",
    "| station_name | string | The name of the train station.|\n",
    "| train_line | string | Train line code |\n",
    "| fault_type | string | A description of the type of fault that occurred, if any. |\n",
    "\n",
    "\n"
   ]
  },
  {
   "cell_type": "markdown",
   "id": "e80fc26c",
   "metadata": {},
   "source": [
    "<a id=\"passenger_df\"></a>\n",
    "**Dataset name: `passenger_df`**<br>This dataset contains the cleaned information from LTA on the train's passenger tap-ins and tap-outs.<br> **(Note: Only information from Dec-2022 to Feb-2023 is extracted from LTA using API, the rest of the period data are imputed using scikit Learn)**\n",
    "\n",
    "| **Feature** | **Type** | **Description** |\n",
    "|-------------|----------|-----------------|\n",
    "| year_month | string | The year and month of the record. |\n",
    "| day_type | string | The type of day (weekday/weekend) |\n",
    "| time_per_hour | string | The hour of the day in which the record was recorded. |\n",
    "| pt_code | string | The unique identifier for the train station. |\n",
    "| station_name | string | The name of the train station. |\n",
    "| total_tap_in_volume | int | The total number of passengers who tapped in at the station during the recorded hour.|\n",
    "| total_tap_out_volume | int | The total number of passengers who tapped out at the station during the recorded hour. |\n"
   ]
  },
  {
   "cell_type": "markdown",
   "id": "fd621d32",
   "metadata": {},
   "source": [
    "<a id=\"combinedSmrt_df\"></a>\n",
    "**Dataset name: `combinedSmrt_df`**<br>This dataset contains the combined information from the above dataset and additional calculated features for modelling.<br>\n",
    "\n",
    "| Feature | Type | Description |\n",
    "| :--- | :--- | :--- |\n",
    "| year_month | string | The year and month of the record. |\n",
    "| day_type | string | The type of day (weekday/weekend) |\n",
    "| time_per_hour | int | The hour of the day in which the record was recorded. |\n",
    "| pt_code | string | The unique identifier for the train station. |\n",
    "| station_name | string | The name of the train station. |\n",
    "| total_tap_in_volume | int | The total number of passengers who tapped in at the station during the recorded hour. |\n",
    "| total_tap_out_volume | int | The total number of passengers who tapped out at the station during the recorded hour. |\n",
    "| fault | bool | A binary indicator of whether a fault occurred at the station during the recorded hour. |\n",
    "| fault_type | string | A description of the type of fault that occurred, if any. |\n",
    "\n"
   ]
  },
  {
   "cell_type": "markdown",
   "id": "b694ef92",
   "metadata": {},
   "source": [
    "---"
   ]
  },
  {
   "cell_type": "markdown",
   "id": "524dd1b7",
   "metadata": {},
   "source": [
    "### Data Collection\n",
    "Refer to **1. Data Collection** notebook."
   ]
  },
  {
   "cell_type": "markdown",
   "id": "8791bb78",
   "metadata": {},
   "source": [
    "---"
   ]
  },
  {
   "cell_type": "markdown",
   "id": "640cab3e",
   "metadata": {},
   "source": [
    "### Data Cleaning and Data Analysis\n",
    "Refer to **2. Data Cleaning and Data Analysis** notebook."
   ]
  },
  {
   "cell_type": "markdown",
   "id": "4b5b9833",
   "metadata": {},
   "source": [
    "---"
   ]
  },
  {
   "cell_type": "markdown",
   "id": "41a51a27",
   "metadata": {},
   "source": [
    "### Data Modelling"
   ]
  },
  {
   "cell_type": "markdown",
   "id": "dc246e50",
   "metadata": {},
   "source": [
    "Refer to **3. Data Modelling** notebook."
   ]
  },
  {
   "cell_type": "markdown",
   "id": "58c8f8da",
   "metadata": {},
   "source": [
    "---"
   ]
  },
  {
   "cell_type": "markdown",
   "id": "f332dba4",
   "metadata": {},
   "source": [
    "### Key Takeaways"
   ]
  },
  {
   "cell_type": "markdown",
   "id": "fe32a2db",
   "metadata": {},
   "source": [
    "1. The Train delays predictor uses Logistic regression as it achieved a 72.4% accuracy.\n",
    "\n",
    "2. The time of day and station name were found to be important predictors of train breakdowns, suggesting that improvements in infrastructure and maintenance should be prioritized for these high-risk areas.\n",
    "\n",
    "3. With further research and data collection, the predictor model can be improved to more accurately predict train breakdowns and enable proactive maintenance and repairs, ultimately improving the commuting experience for passengers."
   ]
  },
  {
   "cell_type": "markdown",
   "id": "a45a8c38",
   "metadata": {},
   "source": [
    "---"
   ]
  },
  {
   "cell_type": "markdown",
   "id": "9ef95d2c",
   "metadata": {},
   "source": [
    "### Limitations and Future Enhancements"
   ]
  },
  {
   "cell_type": "markdown",
   "id": "de3a1d81",
   "metadata": {},
   "source": [
    "1. Limited data availability due to most of the 5 years of passenger tap-in and out data being imputed and only 3 months of latest data being provided by LTA.\n",
    "\n",
    "2. The predictor model only considers data from SMRT and does not include train lines from SBS transit. This can be improved in the future after scraping data from SBS transit twitter profile.\n",
    "\n",
    "3. There is potential to improve accuracy and gain new insights by including additional features like weather and maintenance schedule in the predictor model."
   ]
  }
 ],
 "metadata": {
  "kernelspec": {
   "display_name": "Python 3 (ipykernel)",
   "language": "python",
   "name": "python3"
  },
  "language_info": {
   "codemirror_mode": {
    "name": "ipython",
    "version": 3
   },
   "file_extension": ".py",
   "mimetype": "text/x-python",
   "name": "python",
   "nbconvert_exporter": "python",
   "pygments_lexer": "ipython3",
   "version": "3.9.13"
  }
 },
 "nbformat": 4,
 "nbformat_minor": 5
}
